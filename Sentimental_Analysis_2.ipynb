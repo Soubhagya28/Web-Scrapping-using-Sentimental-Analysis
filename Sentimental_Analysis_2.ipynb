{
  "nbformat": 4,
  "nbformat_minor": 0,
  "metadata": {
    "colab": {
      "provenance": []
    },
    "kernelspec": {
      "name": "python3",
      "display_name": "Python 3"
    },
    "language_info": {
      "name": "python"
    }
  },
  "cells": [
    {
      "cell_type": "code",
      "execution_count": null,
      "metadata": {
        "id": "X0YgZMWGdEoI"
      },
      "outputs": [],
      "source": [
        "import pandas as pd\n",
        "import numpy as np\n",
        "import matplotlib.pyplot as plt\n",
        "import requests\n",
        "import bs4\n",
        "import textblob\n",
        "import re"
      ]
    },
    {
      "cell_type": "code",
      "source": [
        "api = requests.get(\"https://www.zdnet.com/article/what-is-ai-heres-everything-you-need-to-know-about-artificial-intelligence/\")"
      ],
      "metadata": {
        "id": "frrdxo9kdObS"
      },
      "execution_count": null,
      "outputs": []
    },
    {
      "cell_type": "code",
      "source": [
        "from bs4 import BeautifulSoup\n"
      ],
      "metadata": {
        "id": "i-uONYSfdT8J"
      },
      "execution_count": null,
      "outputs": []
    },
    {
      "cell_type": "code",
      "source": [
        "content = BeautifulSoup(api.content, 'lxml')\n",
        "content = content.getText(strip=True)"
      ],
      "metadata": {
        "id": "epMEObz-C8CQ"
      },
      "execution_count": null,
      "outputs": []
    },
    {
      "cell_type": "code",
      "source": [
        "content"
      ],
      "metadata": {
        "id": "puzns-mJDUwJ",
        "outputId": "3dfef964-b801-455e-a809-7aa92af402a3",
        "colab": {
          "base_uri": "https://localhost:8080/",
          "height": 140
        }
      },
      "execution_count": null,
      "outputs": [
        {
          "output_type": "execute_result",
          "data": {
            "text/plain": [
              "'Rising IT Cities and Their Impact on the Economy, Environment, Infrastructure, and City Life in Future - Blackcoffer InsightsSign inOur Success StoriesBanking, Financials, Securities, and InsuranceEnergyEntertainmentFast Moving Consumer GoodsGovernment & Think TanksHealthcareInfrastructure & Real EstateITLifestyle, eCommerce & Online Market PlaceProduction & ManufacturingResearch & AcademiaRetail & Supply ChainTelecomWhat We DoBanking, Financials, Securities, and InsuranceEnergyEntertainmentFast Moving Consumer GoodsGovernment & Think TanksHealthcareHospitalityInfrastructure & Real EstateIT ServicesLifestyle, eCommerce & Online Market PlaceNews & MediaProduction & ManufacturingResearch & AcademiaRetail & Supply ChainWhat We ThinkAutomobiles & ComponentsBFSIAsset and PortfolioBanksCapital MarketsDerivatives and SecuritiesDiversified FinancialsFinance & AccountingInsuranceSecurities and Capital MarketsCapital GoodsCommercial & Professional ServicesConsumer DiscretionaryConsumer Durables & ApparelConsumer ServicesConsumer StaplesFood & Staples RetailingFood, Beverage & TobaccoHousehold & Personal ProductsData ScienceAnalyticsArtificial IntelligenceBig DataBusiness AnalyticsData VisualizationInternet of ThingsMachine LearningStatisticsEnergyDataOilHow ToAnalyticsApplication DevelopmentArtificial IntelligenceBusiness AnalyticsExampleOptimizationProjectsSoftware DevelopmentSource Code AuditStatisticsWeb & Mobile App DevelopmentSchedule DemoContactSign inWelcome!Log into your accountyour usernameyour passwordForgot your password?Password recoveryRecover your passwordyour emailSearchSign inWelcome! Log into your accountyour usernameyour passwordForgot your password? Get helpPassword recoveryRecover your passwordyour emailA password will be e-mailed to you.Sunday, February 4, 2024Sign in / JoinOur Success StoriesWhat We DoWhat We ThinkHow ToSchedule DemoContactFacebookLinkedinTwitterYoutubeOur Success StoriesAllBanking, Financials, Securities, and InsuranceEnergyEntertainmentFast Moving Consumer GoodsGovernment & Think TanksHealthcareInfrastructure & Real EstateITLifestyle, eCommerce & Online Market PlaceProduction & ManufacturingResearch & AcademiaOur Success StoriesML and AI-based insurance premium model to predict premium to be charged by the insurance companyJanuary 7, 2024Our Success StoriesAutomate the Data Management ProcessAugust 8, 2023Our Success StoriesRealtime Kibana Dashboard for a financial tech firmAugust 8, 2023Our Success StoriesData Management, ETL, and Data AutomationAugust 6, 2023What We DoAllBanking, Financials, Securities, and InsuranceEnergyEntertainmentFast Moving Consumer GoodsGovernment & Think TanksHealthcareHospitalityInfrastructure & Real EstateIT ServicesLifestyle, eCommerce & Online Market PlaceNews & MediaWhat We DoHow To Secure (SSL) Nginx with Let’s Encrypt on Ubuntu (Cloud VM, GCP, AWS, Azure, Linode) and Add DomainAugust 8, 2023What We DoDeploy and view React app(Nextjs) on cloud VM such as GCP, AWS, Azure, LinodeAugust 8, 2023What We DoDeploy Nodejs app on a cloud VM such as GCP, AWS, Azure, LinodeAugust 8, 2023What We DoGrafana Dashboard – Oscar AwardsJuly 8, 2023What We ThinkAllAutomobiles & ComponentsBFSIAsset and PortfolioBanksCapital MarketsDerivatives and SecuritiesDiversified FinancialsFinance & AccountingInsuranceSecurities and Capital MarketsCapital GoodsWhat We ThinkRising IT cities and its impact on the economy, environment, infrastructure, and city life by the year 2040.August 24, 2023What We ThinkRising IT Cities and Their Impact on the Economy, Environment, Infrastructure, and City Life in FutureAugust 18, 2023What We ThinkInternet Demand’s Evolution, Communication Impact, and 2035’s Alternative PathwaysAugust 18, 2023What We ThinkRise of Cybercrime and its Effect in upcoming FutureAugust 18, 2023How ToAllAnalyticsApplication DevelopmentArtificial IntelligenceBusiness AnalyticsExampleOptimizationProjectsSoftware DevelopmentSource Code AuditStatisticsWeb & Mobile App DevelopmentWhat We DoAI/ML and Predictive ModelingFebruary 3, 2022BlackcofferSolution for Contact Centre ProblemsApril 26, 2021How ToHow to Setup Custom Domain for Google App Engine Application?February 13, 2021How ToCode Review ChecklistApril 10, 2020Schedule DemoContactSearchHomeWhat We ThinkRising IT Cities and Their Impact on the Economy, Environment, Infrastructure, and...What We ThinkFuturePredictionRising IT Cities and Their Impact on the Economy, Environment, Infrastructure, and City Life in FutureByAjay Bidyarthy-August 18, 20232247Throughout history, from the industrial revolution in the 18th century through the development of the Internet, technology has been the primary driver of societal change. It has aided in turning cities into smart urban centers that provide more opportunities and improvements in quality of life. It continues to play a crucial role in altering the world. Cities are acting as engines of economic growth and modernization as they become more technologically advanced, considerably accelerating the trajectory ofglobal development. Technology has had nothing short of revolutionary effects on Indian cities, ushering in a new era of change and advancement. India’smetropolitan centershave embraced technology in ways that are transforming the fundamental fabric of urban life, from infrastructure to governance and beyond, as the world rushes into the digital age.India’s cities must play a crucial part if the nation is to develop into a worldwide economic powerhouse. One of the world’s economies with the greatest growth rates, India aims to reach US$5 trillion inGDPby 2026 and US$40 trillion by 2047, the year it will celebrate 100 years of independence. The idea of smart cities is one of technology’s most obvious effects. Indian cities are progressively implementing cutting-edge technologies to build effective, linked urban landscapes. To improve the quality of life for people, smart cities use data analytics, theInternet of Things (IoT), andautomation.Smart traffic management solutions, for instance, improve traffic flow while lowering congestion and air pollution. Sensor-based garbage collection improves waste management, resulting in cleaner and healthier settings.To become a major player in the world economy, however, several steps are being followed. A crucial one relates to India’s ongoing urbanization development. Between 1970 and 2018, the population of Indian cities is predicted to have expanded from 109 million to 460 million, nearly a fourfold increase.The nation, which already has the second-largest urban population in the world, is predicted to have a 50% urban population share by 2050 after adding 416 million residents to its cities.4 Cities are the centers of economic growth and innovation because they are home to innovative businesses, better-paying employment, and important institutions. (Kolkata, Delhi, Mumbai, Chennai)Cities foster increased productivity through several routes, generally known asagglomeration economies, by permitting close contact between businesses and employees. The theory’s main consequence is that businesses in bigger and/or denser cities should be more productive. In the year 2035, urbanization has had a significant impact on both India and the rest of the world. India now boasts the third-largest economy in the world, only behind China and the United States. In this new period, China has already exceeded the USA in terms of economic size, while India has surpassed Japan to claim a higher place. Although India has 675 million people living in urbanized cities, China has a stunning one billion people living in urbanized cities.Urbanization has both advantages and disadvantages, including financial expenditures. Although city growth can result in better possibilities and a higher standard of living, it also presents difficulties and issues. Rapid urbanization has the potential to deplete resources, harm the environment, and worsensocioeconomicinequities. Depending on how well these problems are solved, urbanization will either have a favorable or negative overall effect.With more than half of the world’s population now living in cities, urbanization has emerged as a major force for development. But it also presents fresh difficulties and chances, reshaping the planet and our way of life in unexpected ways. A future whereartificial intelligence (AI)is increasingly pervasive and has an impact on many parts of our daily lives has been ushered in by this shift. Urbanization has improved living conditions and economic opportunities, but it also calls for careful management and sustainable practices to guarantee a bright and prosperous future for everybody.Similarly, to this, a nation’s population and demography can contribute significantly to its growth. India’s rapidly rising working-age population will be in its favor, and the nation is expected to host some of the fastest-growing cities in the world in the years to come. The West is also taken aback by the annual GDP growth rate of the cities that are predicted to top the charts. Aside from a few towns in Southeast Asia, all of the cities are now from the Asian bloc, which is primarily controlled by India and China. Bangalore, which has had an enormous 8.5 percent GDP growth, is in first place, followed by Dhaka, Mumbai, and Delhi. Bangalore’s startup culture and enormous skill pool set it apart from other cities. Bangalore itself is probably going to bethe future Silicon Valleyof Asia and the entire world. It currently creates a tremendous number of startups. It has the potential to rank among the world’s most urbanized cities. These cities will outpace the global average yearly GDP growth rate, which is expected to be about 2.5%, by a sizeable margin.Undoubtedly, nations will expand and cities will modernize to meet societal demands. Urban city growth has mostly been attributed to rural-to-urban migration. However, the future will be better for us and our offspring if we can maintain a balance between the environment and sustainable growth. We are being impacted by climate change, which is real. In large areas, the effects of climate change will harm the environment through prolonged heat waves, more irregular rainfall, drought, and flooding.As we can see in Pakistan, China, and Europe. Europe as a whole has seen heat waves that have disrupted society, and China is currently dealing with extreme heat waves that are drying up the rivers and making it impossible to produce hydroelectricity. In Pakistan, there were an unusually high number of floods. Out of 160 districts, 110 are underwater, representing a loss of roughly $10 billion.Rural agrarian and pastoralist types of society, which heavily rely on the environment, are severely impacted by these effects. Climate-driven migration is projected to rise as livelihoods all around the world are affected more and more by climate change.The broader prospects of regional environments are likewise impacted by urbanization. Large increases in the amount of air pollution, precipitation, and the frequency of days with thunderstorms are also observed in areas that are downwind from large industrial complexes. Urban regions produce more precipitation, but they also have less water filtration, which lowers the water tables. Urban areas consume significantly more energy than rural communities do for heating, cooking, transportation, and electricity. For instance, today’s metropolitan populations have more cars than rural ones.Due to technology, both healthcare and education are going through significant changes. By extending access to high-quality education outside the walls of traditional classrooms, online education platforms aredemocratizing learning. Remote places are now being reached by telemedicine, which allows doctors to diagnose and treat patients at a distance and close healthcare gaps. These advancements are essential in a large, varied nation like India where achieving fair access to healthcare and education has historically proven difficult.The effect of technology on job trends is another factor to take into account. Technology opens up new possibilities, but it also challenges established employment positions, raising concerns about job displacement and the need for skill upgrading. To ensure that no one is left behind in the wake of these changes, it is essential to strike a balance between technological advancement and social welfare.Technology also stimulates economic development and entrepreneurship. A wider audience can now be reached by small enterprises thanks to the growth of digital platforms, promoting economic inclusion. Thegig economyis altering established labor patterns and creating new employment opportunities as a result of technology-driven platforms. In tech centers like Bengaluru, Hyderabad, and Pune, startups are thriving and fostering innovation in a variety of industries.However, the rapid advancement of technology also creates problems and worries. Urbanization and technology improvements have given rise to problems like thedigital divide and data privacy worries. Technology benefits major cities, while rural populations struggle to get even the most basic digital services, escalating disparities. Additionally, concerns regarding data security and privacy are raised by our growing reliance on technology. Protecting personal information becomes more important as more areas of urban life are digitalized.In conclusion, technology is permanently changing Indian cities, transforming them into vibrant, connected, and effective urban hubs. Due to technology breakthroughs, smart cities, e-governance, education, healthcare, and entrepreneurship are all seeing substantial improvements. These adjustments, though, come with obligations. To close the digital divide, safeguard the privacy of citizen data, and guarantee that the advantages of technology are dispersed fairly, policymakers must collaborate. India’s cities have the ability to lead the way in innovation, progress, and inclusivity in the twenty-first century if they can fully realize their potential and overcome their issues.Blackcoffer Insights 47: Barenya Sarangi, SIIB, PUNETAGSArtificial Intelligencedemocratizing learningGDP growthGDP growth rateSilicon ValleyPrevious articleInternet Demand’s Evolution, Communication Impact, and 2035’s Alternative PathwaysNext articleRising IT cities and its impact on the economy, environment, infrastructure, and city life by the year 2040.Ajay BidyarthyRELATED ARTICLESMORE FROM AUTHORRising IT cities and its impact on the economy, environment, infrastructure, and city life by the year 2040.Internet Demand’s Evolution, Communication Impact, and 2035’s Alternative PathwaysRise of Cybercrime and its Effect in upcoming FutureMOST POPULAR INSIGHTSThe future of Fintech AI & blockchain.February 12, 2021Marketing Analytics Solution, a Big Data ApproachMay 1, 2019Central School System Logistics OptimizationSeptember 27, 2019Ranking customer behaviours for business strategyDecember 31, 2022Load moreRECOMMENDED INSIGHTSImpact of COVID-19 (Coronavirus) on the Indian EconomySteps to Meta-AnalysisHow is AI used to solve traffic management?Impact of news, media, and press on innovation, startups, and investmentsLATEST INSIGHTSDatabase Discovery Tool using OpenAIJanuary 20, 2024ML and AI-based insurance premium model to predict premium to be charged by the insurance companyJanuary 7, 2024Rise of cybercrime and its effect by the year 2040.August 28, 2023POPULAR INSIGHTSDatabase Discovery Tool using OpenAIJanuary 20, 2024ML and AI-based insurance premium model to predict premium to be charged by the insurance companyJanuary 7, 2024Rise of cybercrime and its effect by the year 2040.August 28, 2023POPULAR INSIGHTS CATEGORYWhat We Think178Our Success Stories172Blackcoffer124IT66Artificial Intelligence53Healthcare52Big Data44Lifestyle, eCommerce & Online Market Place40ABOUT USWe provide intelligence, accelerate innovation and implement technology with extraordinary breadth and depth global insights into the big data,data-driven dashboards, applications development, and information management for organizations through combining unique, specialist services and high-lvel human expertise.Contact us:hello@blackcoffer.comFOLLOW USFacebookLinkedinTwitterYoutube© All Right Reserved, Blackcoffer(OPC) Pvt. LtdOur Success StoriesWhat We DoWhat We ThinkHow ToSchedule DemoContact'"
            ],
            "application/vnd.google.colaboratory.intrinsic+json": {
              "type": "string"
            }
          },
          "metadata": {},
          "execution_count": 5
        }
      ]
    },
    {
      "cell_type": "code",
      "source": [
        "!pip install nltk\n",
        "import nltk\n",
        "nltk.download('punkt')\n",
        "from nltk.tokenize import sent_tokenize\n",
        "from nltk.tokenize import word_tokenize\n",
        "nltk.download('stopwords')\n",
        "from nltk.corpus import stopwords\n",
        "from nltk.probability import FreqDist\n",
        "!python3 -m nltk.downloader averaged_perceptron_tagger\n",
        "from nltk import pos_tag"
      ],
      "metadata": {
        "id": "7SF6u9f6Ew1e",
        "outputId": "555a7d4e-8d5d-417b-892c-54761a29fd50",
        "colab": {
          "base_uri": "https://localhost:8080/"
        }
      },
      "execution_count": null,
      "outputs": [
        {
          "output_type": "stream",
          "name": "stdout",
          "text": [
            "Requirement already satisfied: nltk in /usr/local/lib/python3.10/dist-packages (3.8.1)\n",
            "Requirement already satisfied: click in /usr/local/lib/python3.10/dist-packages (from nltk) (8.1.7)\n",
            "Requirement already satisfied: joblib in /usr/local/lib/python3.10/dist-packages (from nltk) (1.3.2)\n",
            "Requirement already satisfied: regex>=2021.8.3 in /usr/local/lib/python3.10/dist-packages (from nltk) (2023.12.25)\n",
            "Requirement already satisfied: tqdm in /usr/local/lib/python3.10/dist-packages (from nltk) (4.66.1)\n"
          ]
        },
        {
          "output_type": "stream",
          "name": "stderr",
          "text": [
            "[nltk_data] Downloading package punkt to /root/nltk_data...\n",
            "[nltk_data]   Unzipping tokenizers/punkt.zip.\n",
            "[nltk_data] Downloading package stopwords to /root/nltk_data...\n",
            "[nltk_data]   Unzipping corpora/stopwords.zip.\n"
          ]
        },
        {
          "output_type": "stream",
          "name": "stdout",
          "text": [
            "/usr/lib/python3.10/runpy.py:126: RuntimeWarning: 'nltk.downloader' found in sys.modules after import of package 'nltk', but prior to execution of 'nltk.downloader'; this may result in unpredictable behaviour\n",
            "  warn(RuntimeWarning(msg))\n",
            "[nltk_data] Downloading package averaged_perceptron_tagger to\n",
            "[nltk_data]     /root/nltk_data...\n",
            "[nltk_data]   Unzipping taggers/averaged_perceptron_tagger.zip.\n"
          ]
        }
      ]
    },
    {
      "cell_type": "code",
      "source": [
        "sentence = sent_tokenize(content)"
      ],
      "metadata": {
        "id": "vKrJJBf2F4Ot"
      },
      "execution_count": null,
      "outputs": []
    },
    {
      "cell_type": "code",
      "source": [
        "len(sentence)"
      ],
      "metadata": {
        "id": "Sz3JsxBHGF2_",
        "outputId": "933e2d94-70de-429a-8270-e4b46e33e2d8",
        "colab": {
          "base_uri": "https://localhost:8080/"
        }
      },
      "execution_count": null,
      "outputs": [
        {
          "output_type": "execute_result",
          "data": {
            "text/plain": [
              "65"
            ]
          },
          "metadata": {},
          "execution_count": 8
        }
      ]
    },
    {
      "cell_type": "code",
      "source": [
        "from textblob import TextBlob"
      ],
      "metadata": {
        "id": "A_8RTAK4Ggzz"
      },
      "execution_count": null,
      "outputs": []
    },
    {
      "cell_type": "code",
      "source": [
        "# Calculation positive, negative, polarity of words\n",
        "def analyze_sentiment(tweet):\n",
        "    analysis = TextBlob(tweet)\n",
        "    if analysis.sentiment.polarity > 0:\n",
        "        return 'positive'\n",
        "    elif analysis.sentiment.polarity == 0:\n",
        "        return 'neutral'\n",
        "    else:\n",
        "        return 'negative'"
      ],
      "metadata": {
        "id": "-yoHLdskHHhc"
      },
      "execution_count": null,
      "outputs": []
    },
    {
      "cell_type": "code",
      "source": [
        "sentence = pd.DataFrame(sentence)\n",
        "sentence.columns = ['sentence']\n",
        "sentence['sentiment'] = [str(analyze_sentiment(x)) for x in sentence.sentence]\n",
        "sentence.sentiment.value_counts()"
      ],
      "metadata": {
        "id": "wgfi0B_tHjAI",
        "outputId": "0688d728-fea6-4c52-adc9-b1d69160e61c",
        "colab": {
          "base_uri": "https://localhost:8080/"
        }
      },
      "execution_count": null,
      "outputs": [
        {
          "output_type": "execute_result",
          "data": {
            "text/plain": [
              "positive    45\n",
              "neutral     10\n",
              "negative    10\n",
              "Name: sentiment, dtype: int64"
            ]
          },
          "metadata": {},
          "execution_count": 11
        }
      ]
    },
    {
      "cell_type": "code",
      "source": [
        "content_words=word_tokenize(content)\n",
        "content_words=[word for word in content_words if word.isalnum()]"
      ],
      "metadata": {
        "id": "bNOnHIAMIGco"
      },
      "execution_count": null,
      "outputs": []
    },
    {
      "cell_type": "code",
      "source": [
        "stop_words = set(stopwords.words('english'))\n",
        "content_words = [word for word in content_words if not str.lower(word) in stop_words]"
      ],
      "metadata": {
        "id": "1Zbh2x6nybe3"
      },
      "execution_count": null,
      "outputs": []
    },
    {
      "cell_type": "code",
      "source": [
        "wordfreq = FreqDist(content_words)\n",
        "print(wordfreq)"
      ],
      "metadata": {
        "colab": {
          "base_uri": "https://localhost:8080/"
        },
        "id": "OW_NUQkH2yZv",
        "outputId": "a4fc8c20-8ef3-4fcd-fef0-e9a15db3ccbe"
      },
      "execution_count": null,
      "outputs": [
        {
          "output_type": "stream",
          "name": "stdout",
          "text": [
            "<FreqDist with 827 samples and 1364 outcomes>\n"
          ]
        }
      ]
    },
    {
      "cell_type": "code",
      "source": [
        "# Calculation average length\n",
        "word_length = []\n",
        "for word in content_words:\n",
        "  word_length.append(len(word))\n",
        "average_length = (sum(word_length)/len(word_length))\n",
        "print(round(average_length))"
      ],
      "metadata": {
        "colab": {
          "base_uri": "https://localhost:8080/"
        },
        "id": "9ECWSTml5pgA",
        "outputId": "1f0010bf-820b-467c-dc6b-3ce14ee833fc"
      },
      "execution_count": null,
      "outputs": [
        {
          "output_type": "stream",
          "name": "stdout",
          "text": [
            "8\n"
          ]
        }
      ]
    },
    {
      "cell_type": "code",
      "source": [
        "# Calculation average_sentence_length\n",
        "average_sentence_length = len(content_words) / len(sentence)\n",
        "print(round(average_sentence_length))"
      ],
      "metadata": {
        "colab": {
          "base_uri": "https://localhost:8080/"
        },
        "id": "qGozWaL1_nZm",
        "outputId": "d6bf0635-4682-4a40-d83f-9e4bb8fd9b23"
      },
      "execution_count": null,
      "outputs": [
        {
          "output_type": "stream",
          "name": "stdout",
          "text": [
            "21\n"
          ]
        }
      ]
    },
    {
      "cell_type": "code",
      "source": [
        "!pip install syllables\n",
        "import syllables"
      ],
      "metadata": {
        "colab": {
          "base_uri": "https://localhost:8080/"
        },
        "id": "0Tb63TpeAbHY",
        "outputId": "f366d687-33f8-4c38-9f4a-ba69f236c363"
      },
      "execution_count": null,
      "outputs": [
        {
          "output_type": "stream",
          "name": "stdout",
          "text": [
            "Collecting syllables\n",
            "  Downloading syllables-1.0.9-py3-none-any.whl (15 kB)\n",
            "Collecting cmudict<2.0.0,>=1.0.11 (from syllables)\n",
            "  Downloading cmudict-1.0.17-py3-none-any.whl (939 kB)\n",
            "\u001b[2K     \u001b[90m━━━━━━━━━━━━━━━━━━━━━━━━━━━━━━━━━━━━━━━━\u001b[0m \u001b[32m939.4/939.4 kB\u001b[0m \u001b[31m6.8 MB/s\u001b[0m eta \u001b[36m0:00:00\u001b[0m\n",
            "\u001b[?25hCollecting importlib-metadata<7.0,>=5.1 (from syllables)\n",
            "  Downloading importlib_metadata-6.11.0-py3-none-any.whl (23 kB)\n",
            "Requirement already satisfied: importlib-resources>=5 in /usr/local/lib/python3.10/dist-packages (from cmudict<2.0.0,>=1.0.11->syllables) (6.1.1)\n",
            "Requirement already satisfied: zipp>=0.5 in /usr/local/lib/python3.10/dist-packages (from importlib-metadata<7.0,>=5.1->syllables) (3.17.0)\n",
            "Installing collected packages: importlib-metadata, cmudict, syllables\n",
            "  Attempting uninstall: importlib-metadata\n",
            "    Found existing installation: importlib-metadata 7.0.1\n",
            "    Uninstalling importlib-metadata-7.0.1:\n",
            "      Successfully uninstalled importlib-metadata-7.0.1\n",
            "Successfully installed cmudict-1.0.17 importlib-metadata-6.11.0 syllables-1.0.9\n"
          ]
        }
      ]
    },
    {
      "cell_type": "code",
      "source": [
        "# Calculate syllables_per_word\n",
        "total_syllables = 0\n",
        "total_words = len(content_words)\n",
        "for word in content_words:\n",
        "      total_syllables += syllables.estimate(word)\n",
        "syllables_per_word = total_syllables / total_words\n",
        "print(syllables_per_word)"
      ],
      "metadata": {
        "colab": {
          "base_uri": "https://localhost:8080/"
        },
        "id": "kxDTZAT4AfaA",
        "outputId": "9f98a30b-61b7-4d0c-a349-8f88112968b6"
      },
      "execution_count": null,
      "outputs": [
        {
          "output_type": "stream",
          "name": "stdout",
          "text": [
            "2.844574780058651\n"
          ]
        }
      ]
    },
    {
      "cell_type": "code",
      "source": [
        "#calculate average words per sentence\n",
        "avg_words_per_sentence = total_words / len(sentence)\n",
        "print(avg_words_per_sentence)"
      ],
      "metadata": {
        "colab": {
          "base_uri": "https://localhost:8080/"
        },
        "id": "JOag9okqBJWi",
        "outputId": "66f16422-b561-46bd-a499-81c9cb36d132"
      },
      "execution_count": null,
      "outputs": [
        {
          "output_type": "stream",
          "name": "stdout",
          "text": [
            "20.984615384615385\n"
          ]
        }
      ]
    },
    {
      "cell_type": "code",
      "source": [
        "#calculate total complex words\n",
        "total_complex_words = 0\n",
        "for word in content_words:\n",
        "  if syllables.estimate(word)>=3:\n",
        "    total_complex_words += 1\n",
        "print(total_complex_words)"
      ],
      "metadata": {
        "colab": {
          "base_uri": "https://localhost:8080/"
        },
        "id": "-7Q8EgsQFRCa",
        "outputId": "be933106-dd50-472f-e9f5-b1c34c5c7368"
      },
      "execution_count": null,
      "outputs": [
        {
          "output_type": "stream",
          "name": "stdout",
          "text": [
            "658\n"
          ]
        }
      ]
    },
    {
      "cell_type": "code",
      "source": [
        "# Calculate percentage of complex words\n",
        "if total_words > 0:\n",
        "    percentage_complex_words = (total_complex_words / total_words) * 100\n",
        "else:\n",
        "    percentage_complex_words = 0\n",
        "print(percentage_complex_words)"
      ],
      "metadata": {
        "colab": {
          "base_uri": "https://localhost:8080/"
        },
        "id": "2kAcknZ7GPG7",
        "outputId": "6f0f536d-c879-4917-b945-61f22b914d9c"
      },
      "execution_count": null,
      "outputs": [
        {
          "output_type": "stream",
          "name": "stdout",
          "text": [
            "48.240469208211145\n"
          ]
        }
      ]
    },
    {
      "cell_type": "code",
      "source": [
        "# Calculate subjectivity score\n",
        "blob = TextBlob(content)\n",
        "subjectivity_score = blob.sentiment.subjectivity\n",
        "print(subjectivity_score)"
      ],
      "metadata": {
        "colab": {
          "base_uri": "https://localhost:8080/"
        },
        "id": "IAPbxEU6JCGq",
        "outputId": "d40ff529-8d42-456d-8085-b35fb5004dcd"
      },
      "execution_count": null,
      "outputs": [
        {
          "output_type": "stream",
          "name": "stdout",
          "text": [
            "0.40125083487940627\n"
          ]
        }
      ]
    },
    {
      "cell_type": "code",
      "source": [
        "# Calculate personal pronouns\n",
        "tagged_words = pos_tag(content_words)\n",
        "personal_pronouns = [\"I\", \"me\", \"my\", \"mine\", \"myself\", \"you\", \"your\", \"yours\", \"yourself\", \"yourselves\", \"he\", \"him\", \"his\", \"himself\", \"she\", \"her\", \"hers\", \"herself\", \"it\", \"its\", \"itself\", \"we\", \"us\", \"our\", \"ours\", \"ourselves\", \"they\", \"them\", \"their\", \"theirs\", \"themselves\"]\n",
        "personal_pronoun_count = sum(1 for word, pos in tagged_words if word.lower() in personal_pronouns)\n",
        "print(personal_pronoun_count)"
      ],
      "metadata": {
        "colab": {
          "base_uri": "https://localhost:8080/"
        },
        "id": "yMOVYUBeLIHd",
        "outputId": "2ca2ec82-d237-41a2-88f4-40616ee4958f"
      },
      "execution_count": null,
      "outputs": [
        {
          "output_type": "stream",
          "name": "stdout",
          "text": [
            "4\n"
          ]
        }
      ]
    },
    {
      "cell_type": "code",
      "source": [
        "#calculate fog index\n",
        "fog_index = 0.4 * (avg_words_per_sentence + percentage_complex_words)\n",
        "print(fog_index)"
      ],
      "metadata": {
        "colab": {
          "base_uri": "https://localhost:8080/"
        },
        "id": "5BNHsPehZLW2",
        "outputId": "e2889c48-3531-489f-828c-175e214ff34a"
      },
      "execution_count": null,
      "outputs": [
        {
          "output_type": "stream",
          "name": "stdout",
          "text": [
            "27.690033837130613\n"
          ]
        }
      ]
    },
    {
      "cell_type": "code",
      "source": [],
      "metadata": {
        "id": "luii-rJqfQpv"
      },
      "execution_count": null,
      "outputs": []
    }
  ]
}